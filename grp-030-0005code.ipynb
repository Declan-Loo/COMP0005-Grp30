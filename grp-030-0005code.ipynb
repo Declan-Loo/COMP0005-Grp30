{
 "cells": [
  {
   "cell_type": "markdown",
   "metadata": {},
   "source": [
    "# COMP0005 - GROUP COURSEWORK 2023-24\n",
    "# Gesture Recognition via Convex Hull "
   ]
  },
  {
   "cell_type": "markdown",
   "metadata": {},
   "source": [
    "Use the cell below for all python code needed to realise the **Jarvis march algorithm** (including auxiliary data structures and functions needed by this algorithm - if any). The `jarvismarch()` function itself should take as input parameter a list of 2D points (`inputSet`), and return the subset of such points (`outputSet`) that lie on the convex hull."
   ]
  },
  {
   "cell_type": "code",
   "execution_count": 29,
   "metadata": {},
   "outputs": [
    {
     "data": {
      "text/plain": [
       "[(-10, 4), (4, 20), (5, 2), (0, -1)]"
      ]
     },
     "execution_count": 29,
     "metadata": {},
     "output_type": "execute_result"
    }
   ],
   "source": [
    "import math\n",
    "\n",
    "# find the orientation of the points - to see if the rotation from points is counterclockwise or clockwise based on the middle point (p2)\n",
    "def orientation(p1 : Tuple[float,float],p2 : Tuple[float,float] ,p3: Tuple[float,float]) -> int:\n",
    "        grad_diff = ((p3[1]-p2[1])*(p2[0]-p1[0])) - ((p2[1]-p1[1])*(p3[0]-p2[0]))\n",
    "        \n",
    "        # check if the orientation is counterclockwise (so return 1) - as we prefer the orientation to be counterclockwise in the Jarvis March algorithm.\n",
    "        if grad_diff > 0:\n",
    "                return 1\n",
    "        # check if the orientation is clockwise (so return -1)\n",
    "        elif grad_diff < 0:\n",
    "                return -1\n",
    "        # otherwise the orientation will be collinear (so return 0)\n",
    "        else:\n",
    "                return 0\n",
    "def dist(p1 : Tuple[float,float], p2: Tuple[float,float]) -> float:\n",
    "        return math.sqrt((p2[1]-p1[1])**2 +(p2[0]-p1[0])**2)\n",
    "\n",
    "# tutorial: https://www.youtube.com/watch?v=nBvCZi34F_o\n",
    "def jarvismarch(inputSet : List[Tuple[float,float]]) -> List[Tuple[float,float]]:\n",
    "    '''\n",
    "    Returns the list of points that lie on the convex hull (jarvis march algorithm)\n",
    "            Parameters:\n",
    "                    inputSet (list): a list of 2D points\n",
    "\n",
    "            Returns:\n",
    "                    outputSet (list): a list of 2D points\n",
    "    '''\n",
    "    # find the left-most point\n",
    "    leftmostPoint = min(inputSet)\n",
    "    outputSet = []\n",
    "    while True:\n",
    "        outputSet.append(leftmostPoint)\n",
    "        next_point = inputSet[0]\n",
    "        for point in inputSet:\n",
    "                o = orientation(leftmostPoint, next_point, point)\n",
    "                if next_point == leftmostPoint or o == 1 or (o == 0 and dist(leftmostPoint, point) > dist(leftmostPoint,next_point)):\n",
    "                        next_point = point\n",
    "                        \n",
    "        leftmostPoint = next_point\n",
    "        if leftmostPoint == outputSet[0]:\n",
    "                break  \n",
    "\n",
    "    #ADD YOUR CODE HERE\n",
    "\n",
    "    return outputSet\n",
    "\n",
    "jarvismarch([(0,-1),(5,2),(-5,2),(-10,4),(4,20),(2,1)])"
   ]
  },
  {
   "cell_type": "markdown",
   "metadata": {},
   "source": [
    "Use the cell below for all python code needed to realise the **Graham scan** algorithm (including auxiliary data structures and functions needed by this algorithm - if any). The `grahamscan()` function itself should take as input parameter a list of 2D points (`inputSet`), and return the subset of such points that lie on the convex hull (`outputSet`)."
   ]
  },
  {
   "cell_type": "code",
   "execution_count": 16,
   "metadata": {},
   "outputs": [
    {
     "name": "stdout",
     "output_type": "stream",
     "text": [
      "(5, -40)\n"
     ]
    },
    {
     "ename": "NameError",
     "evalue": "name 'outputSet' is not defined",
     "output_type": "error",
     "traceback": [
      "\u001b[0;31m---------------------------------------------------------------------------\u001b[0m",
      "\u001b[0;31mNameError\u001b[0m                                 Traceback (most recent call last)",
      "Cell \u001b[0;32mIn[16], line 23\u001b[0m\n\u001b[1;32m     20\u001b[0m     \u001b[38;5;28mprint\u001b[39m(lowestPoint)\n\u001b[1;32m     21\u001b[0m     \u001b[38;5;28;01mreturn\u001b[39;00m outputSet\n\u001b[0;32m---> 23\u001b[0m \u001b[43mgrahamscan\u001b[49m\u001b[43m(\u001b[49m\u001b[43m[\u001b[49m\u001b[43m(\u001b[49m\u001b[38;5;241;43m0\u001b[39;49m\u001b[43m,\u001b[49m\u001b[38;5;241;43m-\u001b[39;49m\u001b[38;5;241;43m1\u001b[39;49m\u001b[43m)\u001b[49m\u001b[43m,\u001b[49m\u001b[43m(\u001b[49m\u001b[38;5;241;43m5\u001b[39;49m\u001b[43m,\u001b[49m\u001b[38;5;241;43m2\u001b[39;49m\u001b[43m)\u001b[49m\u001b[43m,\u001b[49m\u001b[43m(\u001b[49m\u001b[38;5;241;43m-\u001b[39;49m\u001b[38;5;241;43m5\u001b[39;49m\u001b[43m,\u001b[49m\u001b[38;5;241;43m2\u001b[39;49m\u001b[43m)\u001b[49m\u001b[43m,\u001b[49m\u001b[43m(\u001b[49m\u001b[38;5;241;43m-\u001b[39;49m\u001b[38;5;241;43m10\u001b[39;49m\u001b[43m,\u001b[49m\u001b[38;5;241;43m4\u001b[39;49m\u001b[43m)\u001b[49m\u001b[43m,\u001b[49m\u001b[43m(\u001b[49m\u001b[38;5;241;43m5\u001b[39;49m\u001b[43m,\u001b[49m\u001b[38;5;241;43m-\u001b[39;49m\u001b[38;5;241;43m40\u001b[39;49m\u001b[43m)\u001b[49m\u001b[43m]\u001b[49m\u001b[43m)\u001b[49m\n",
      "Cell \u001b[0;32mIn[16], line 21\u001b[0m, in \u001b[0;36mgrahamscan\u001b[0;34m(inputSet)\u001b[0m\n\u001b[1;32m     19\u001b[0m lowestPoint \u001b[38;5;241m=\u001b[39m \u001b[38;5;28mmin\u001b[39m(inputSet, key\u001b[38;5;241m=\u001b[39m\u001b[38;5;28;01mlambda\u001b[39;00m x:x[\u001b[38;5;241m1\u001b[39m])\n\u001b[1;32m     20\u001b[0m \u001b[38;5;28mprint\u001b[39m(lowestPoint)\n\u001b[0;32m---> 21\u001b[0m \u001b[38;5;28;01mreturn\u001b[39;00m \u001b[43moutputSet\u001b[49m\n",
      "\u001b[0;31mNameError\u001b[0m: name 'outputSet' is not defined"
     ]
    }
   ],
   "source": [
    "# positive if clockwise / negative if counterclockwise\n",
    "def crossProduct(v1 : Tuple[int, int],v2 : Tuple[int, int]) -> int:\n",
    "        crossProduct =  (v1[0] * v2[1] ) - (v1[1] * v2[0])\n",
    "        # check if crossProduct is negative (check if counterclockwise)\n",
    "        if crossProduct < 0:\n",
    "                return 1\n",
    "        # check if crossProduct is positive (check if clockwise)\n",
    "        elif crossProduct > 0:\n",
    "                return -1\n",
    "\n",
    "\n",
    "def grahamscan(inputSet):\n",
    "    '''\n",
    "    Returns the list of points that lie on the convex hull (graham scan algorithm)\n",
    "            Parameters:\n",
    "                    inputSet (list): a list of 2D points\n",
    "\n",
    "            Returns:\n",
    "                    outputSet (list): a list of 2D points\n",
    "    '''\n",
    "\n",
    "    #ADD YOUR CODE HERE\n",
    "    lowestPoint = min(inputSet, key=lambda x:x[1])\n",
    "    print(lowestPoint)\n",
    "    return outputSet\n",
    "\n",
    "grahamscan([(0,-1),(5,2),(-5,2),(-10,4),(5,-40)])"
   ]
  },
  {
   "cell_type": "markdown",
   "metadata": {},
   "source": [
    "Use the cell below for all python code needed to realise the **Chen's** algorithm (including auxiliary data structures and functions needed by this algorithm - if any). The `chen()` function itself should take as input parameter a list of 2D points (`inputSet`), and return the subset of such points that lie on the convex hull (`outputSet`)."
   ]
  },
  {
   "cell_type": "code",
   "execution_count": 3,
   "metadata": {},
   "outputs": [],
   "source": [
    "def chen(inputSet):\n",
    "    '''\n",
    "    Returns the list of points that lie on the convex hull (chen's algorithm)\n",
    "            Parameters:\n",
    "                    inputSet (list): a list of 2D points\n",
    "\n",
    "            Returns:\n",
    "                    outputSet (list): a list of 2D points\n",
    "    '''\n",
    "\n",
    "    #ADD YOUR CODE HERE\n",
    "\n",
    "\n",
    "    return outputSet"
   ]
  },
  {
   "cell_type": "markdown",
   "metadata": {},
   "source": [
    "Use the cell below to implement the **synthetic data generator** needed by your experimental framework (including any auxiliary data structures and functions you might need - be mindful of code readability and reusability)."
   ]
  },
  {
   "cell_type": "code",
   "execution_count": 4,
   "metadata": {},
   "outputs": [],
   "source": [
    "import random\n",
    "\n",
    "class TestDataGenerator():\n",
    "    \"\"\"\n",
    "    A class to represent a synthetic data generator.\n",
    "\n",
    "    ...\n",
    "\n",
    "    Attributes\n",
    "    ----------\n",
    "    \n",
    "    [to be defined as part of the coursework]\n",
    "\n",
    "    Methods\n",
    "    -------\n",
    "    \n",
    "    [to be defined as part of the coursework]\n",
    "\n",
    "    \"\"\"\n",
    "        \n",
    "    #ADD YOUR CODE HERE\n",
    "    \n",
    "    def __init__():\n",
    "        pass\n"
   ]
  },
  {
   "cell_type": "markdown",
   "metadata": {},
   "source": [
    "Use the cell below to implement the requested **experimental framework** API."
   ]
  },
  {
   "cell_type": "code",
   "execution_count": 5,
   "metadata": {},
   "outputs": [],
   "source": [
    "import timeit\n",
    "import matplotlib\n",
    "\n",
    "class ExperimentalFramework():\n",
    "    \"\"\"\n",
    "    A class to represent an experimental framework.\n",
    "\n",
    "    ...\n",
    "\n",
    "    Attributes\n",
    "    ----------\n",
    "    \n",
    "    [to be defined as part of the coursework]\n",
    "\n",
    "    Methods\n",
    "    -------\n",
    "    \n",
    "    [to be defined as part of the coursework]\n",
    "\n",
    "    \"\"\"\n",
    "        \n",
    "    #ADD YOUR CODE HERE\n",
    "    \n",
    "    def __init__():\n",
    "        pass"
   ]
  },
  {
   "cell_type": "markdown",
   "metadata": {},
   "source": [
    "Use the cell below to illustrate the python code you used to **fully evaluate** the three convex hull algortihms under considerations. The code below should illustrate, for example, how you made used of the **TestDataGenerator** class to generate test data of various size and properties; how you instatiated the **ExperimentalFramework** class to  evaluate each algorithm using such data, collect information about their execution time, plots results, etc. Any results you illustrate in the companion PDF report should have been generated using the code below."
   ]
  },
  {
   "cell_type": "code",
   "execution_count": 6,
   "metadata": {},
   "outputs": [],
   "source": [
    "# ADD YOUR TEST CODE HERE \n",
    "\n",
    "\n",
    "\n"
   ]
  }
 ],
 "metadata": {
  "kernelspec": {
   "display_name": "Python 3",
   "language": "python",
   "name": "python3"
  },
  "language_info": {
   "codemirror_mode": {
    "name": "ipython",
    "version": 3
   },
   "file_extension": ".py",
   "mimetype": "text/x-python",
   "name": "python",
   "nbconvert_exporter": "python",
   "pygments_lexer": "ipython3",
   "version": "3.9.6"
  }
 },
 "nbformat": 4,
 "nbformat_minor": 4
}
